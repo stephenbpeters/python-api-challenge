{
 "cells": [
  {
   "cell_type": "markdown",
   "metadata": {},
   "source": [
    "# WeatherPy\n",
    "----\n",
    "\n",
    "#### Note\n",
    "* Instructions have been included for each segment. You do not have to follow them exactly, but they are included to help you think through the steps."
   ]
  },
  {
   "cell_type": "code",
   "execution_count": 1,
   "metadata": {
    "scrolled": true
   },
   "outputs": [],
   "source": [
    "# Dependencies and Setup\n",
    "import matplotlib.pyplot as plt\n",
    "import pandas as pd\n",
    "import numpy as np\n",
    "import requests\n",
    "import time\n",
    "from scipy.stats import linregress\n",
    "from pprint import pprint\n",
    "\n",
    "# Import API key\n",
    "from api_keys import weather_api_key\n",
    "\n",
    "# Incorporated citipy to determine city based on latitude and longitude\n",
    "from citipy import citipy\n",
    "\n",
    "# Output File (CSV)\n",
    "output_data_file = \"output_data/cities.csv\"\n",
    "\n",
    "# Range of latitudes and longitudes\n",
    "lat_range = (-90, 90)\n",
    "lng_range = (-180, 180)\n",
    "\n",
    "if weather_api_key == 'YOUR KEY HERE!':\n",
    "    print('-------------')\n",
    "    print('-------------')\n",
    "    print('')\n",
    "    print('NOTE: You need to enter your API keys into the api_keys.py file')\n",
    "    print('for this script to execute')\n",
    "    print('')\n",
    "    print('-------------')    \n",
    "    print('-------------')\n"
   ]
  },
  {
   "cell_type": "markdown",
   "metadata": {},
   "source": [
    "## Generate Cities List"
   ]
  },
  {
   "cell_type": "code",
   "execution_count": 37,
   "metadata": {},
   "outputs": [
    {
     "name": "stdout",
     "output_type": "stream",
     "text": [
      "here is the number of cities: 84\n"
     ]
    }
   ],
   "source": [
    "# List for holding lat_lngs and cities\n",
    "lat_lngs = []\n",
    "cities = []\n",
    "\n",
    "# Create a set of random lat and lng combinations\n",
    "#lats = np.random.uniform(lat_range[0], lat_range[1], size=1500)\n",
    "#lngs = np.random.uniform(lng_range[0], lng_range[1], size=1500)\n",
    "# for testing, let's use fewer cities\n",
    "lats = np.random.uniform(lat_range[0], lat_range[1], size=100)\n",
    "lngs = np.random.uniform(lng_range[0], lng_range[1], size=100)\n",
    "lat_lngs = zip(lats, lngs)\n",
    "\n",
    "# Identify nearest city for each lat, lng combination\n",
    "for lat_lng in lat_lngs:\n",
    "    city = citipy.nearest_city(lat_lng[0], lat_lng[1]).city_name\n",
    "    \n",
    "    # If the city is unique, then add it to a our cities list\n",
    "    if city not in cities:\n",
    "        cities.append(city)\n",
    "\n",
    "# Print the city count to confirm sufficient count\n",
    "print('here is the number of cities: ' + str(len(cities)))\n",
    "#print(type(cities))\n",
    "#cities\n"
   ]
  },
  {
   "cell_type": "markdown",
   "metadata": {},
   "source": [
    "### Perform API Calls\n",
    "* Perform a weather check on each city using a series of successive API calls.\n",
    "* Include a print log of each city as it'sbeing processed (with the city number and city name).\n"
   ]
  },
  {
   "cell_type": "code",
   "execution_count": 39,
   "metadata": {
    "scrolled": true
   },
   "outputs": [
    {
     "name": "stdout",
     "output_type": "stream",
     "text": [
      "----> Something not found, skipping <----\n",
      "processing city: ushuaia ID: 3833367\n",
      "----> Something not found, skipping <----\n",
      "processing city: yellowknife ID: 6185377\n",
      "----> Something not found, skipping <----\n",
      "processing city: barrow ID: 5880054\n",
      "processing city: santa maria ID: 3450083\n",
      "processing city: qaqortoq ID: 3420846\n",
      "processing city: mataura ID: 6201424\n",
      "processing city: rikitea ID: 4030556\n",
      "processing city: khatanga ID: 2022572\n",
      "----> Something not found, skipping <----\n",
      "processing city: port alfred ID: 964432\n",
      "processing city: norman wells ID: 6089245\n",
      "processing city: kieta ID: 2094027\n",
      "processing city: puerto ayora ID: 3652764\n",
      "processing city: jamestown ID: 5122534\n",
      "processing city: college ID: 5859699\n",
      "processing city: avarua ID: 4035715\n",
      "processing city: busselton ID: 2075265\n",
      "processing city: bonavista ID: 5905393\n",
      "processing city: noumea ID: 2139521\n",
      "processing city: hualmay ID: 3939761\n",
      "processing city: sierra vista ID: 5314328\n",
      "processing city: whitianga ID: 2179103\n",
      "processing city: new norfolk ID: 2155415\n",
      "processing city: rio grande ID: 3451138\n",
      "processing city: hervey bay ID: 2146219\n",
      "----> Something not found, skipping <----\n",
      "processing city: gagra ID: 614622\n",
      "processing city: albany ID: 5106841\n",
      "----> Something not found, skipping <----\n",
      "processing city: bolobo ID: 2316748\n",
      "processing city: camana ID: 3945985\n",
      "processing city: atuona ID: 4020109\n",
      "processing city: yerbogachen ID: 2012956\n",
      "processing city: turochak ID: 1488920\n",
      "processing city: haian ID: 1809116\n",
      "processing city: razole ID: 1258269\n",
      "processing city: hilo ID: 5855927\n",
      "processing city: sol-iletsk ID: 491019\n",
      "processing city: seoul ID: 1835848\n",
      "processing city: bumbuna ID: 2409829\n",
      "processing city: tasiilaq ID: 3424607\n",
      "processing city: san vicente de canete ID: 3928993\n",
      "processing city: chokurdakh ID: 2126123\n",
      "processing city: arraial do cabo ID: 3471451\n",
      "processing city: westport ID: 4845585\n",
      "processing city: kodiak ID: 5866583\n",
      "processing city: hobyo ID: 57000\n",
      "processing city: dikson ID: 1507390\n",
      "processing city: verkhnyaya toyma ID: 474470\n",
      "processing city: kapaa ID: 5848280\n",
      "processing city: faanui ID: 4034551\n",
      "processing city: salalah ID: 286621\n",
      "processing city: lebedinyy ID: 2020871\n",
      "processing city: cape town ID: 3369157\n",
      "processing city: saint anthony ID: 5044290\n",
      "processing city: werda ID: 932960\n",
      "processing city: sur ID: 286245\n",
      "processing city: hasaki ID: 2112802\n",
      "processing city: ponta do sol ID: 2264557\n",
      "processing city: comarapa ID: 3919703\n",
      "processing city: konevo ID: 545467\n",
      "processing city: nara ID: 1855612\n",
      "processing city: puerto del rosario ID: 2512186\n",
      "processing city: castro ID: 3466704\n",
      "processing city: broken hill ID: 2173911\n",
      "processing city: hirara ID: 1862505\n",
      "processing city: port elizabeth ID: 964420\n",
      "processing city: bluff ID: 2206939\n",
      "processing city: butaritari ID: 2110227\n",
      "processing city: narsaq ID: 3421719\n",
      "processing city: pangai ID: 4032369\n",
      "processing city: vaini ID: 4032243\n",
      "processing city: hobart ID: 2163355\n",
      "processing city: asgabat ID: 162183\n",
      "processing city: takoradi ID: 2294915\n",
      "processing city: rio gallegos ID: 3838859\n",
      "processing city: pisco ID: 3932145\n",
      "processing city: palmer ID: 4946620\n",
      "processing city: portland ID: 5746545\n",
      "processing city: codrington ID: 2171099\n",
      "processing city: gambela ID: 337405\n",
      "------------\n",
      "--> DONE! <---\n",
      "------------\n"
     ]
    }
   ],
   "source": [
    "# let's play with the API and JSON:\n",
    "# set our test api endpoint:\n",
    "url = 'http://api.openweathermap.org/data/2.5/weather?'\n",
    "# units = 'metric' # instructions say F degrees (and not F Troop)\n",
    "units = 'imperial' # set this to get temps in F and wind speed in MPH\n",
    "# build a partial query URL:\n",
    "query_url = f\"{url}appid={weather_api_key}&units={units}&q=\"\n",
    "\n",
    "# create list for our current temp of each city\n",
    "temp = []\n",
    "humid = [] # returns in % no conversion needed\n",
    "cloud = [] # returns in % no conversion needed\n",
    "wind = [] # returns in meters/sec\n",
    "city_name = []\n",
    "city_id = []\n",
    "city_lat = []\n",
    "city_lng = []\n",
    "city_date = []\n",
    "country = []\n",
    "\n",
    "# Loop through each city and get temp\n",
    "for city in cities:\n",
    "    response = requests.get(query_url + city).json()\n",
    "    try:\n",
    "        #print(response['main'])\n",
    "        temp_now = response['main']['temp']\n",
    "        humid_now = response['main']['humidity']\n",
    "        cloud_now = response['clouds']['all']\n",
    "        wind_now = response['wind']['speed']\n",
    "        city_now = response['id']\n",
    "        \n",
    "        temp.append(response['main']['temp'])\n",
    "        humid.append(response['main']['humidity'])\n",
    "        cloud.append(response['clouds']['all'])\n",
    "        wind.append(response['wind']['speed'])\n",
    "        city_id.append(response['id'])\n",
    "        city_lat.append(float(response['coord']['lat']))\n",
    "        city_lng.append(float(response['coord']['lon']))\n",
    "        city_date.append(response['dt'])\n",
    "        country.append(response['sys']['country'])\n",
    "        city_name.append(city)\n",
    "\n",
    "\n",
    "        #print(f\"city id: {city_now} city: {city} temp: {temp_now} humidity: {humid_now} windspeed: {wind_now} cloud %: {cloud_now}\")\n",
    "        #print(f\"city id: {city_now} city: {city} city_lat: {city_lat} city_lng: {city_lng}\")\n",
    "        #print(f\"city: {city} city_lat: {city_lat} city_lng: {city_lng} lat type: {type(city_lat)} \")\n",
    "        print(f\"processing city: {city} ID: {city_now}\")\n",
    "    except:\n",
    "        print('----> Something not found, skipping <----')\n",
    "        pass\n",
    "\n",
    "print('------------')\n",
    "print('--> DONE! <---')\n",
    "print('------------')\n",
    "    \n",
    "# add a test row where humidity is > 100 to drop later as a test    \n",
    "temp.append(20)\n",
    "humid.append(101)\n",
    "cloud.append(3)\n",
    "wind.append(5)\n",
    "city_id.append(6)\n",
    "city_lat.append(12)\n",
    "city_lng.append(5)\n",
    "city_date.append(12)\n",
    "country.append('DOH')\n",
    "city_name.append('Foo')    \n",
    "    "
   ]
  },
  {
   "cell_type": "markdown",
   "metadata": {},
   "source": [
    "### Convert Raw Data to DataFrame\n",
    "* Export the city data into a .csv.\n",
    "* Display the DataFrame"
   ]
  },
  {
   "cell_type": "code",
   "execution_count": 41,
   "metadata": {},
   "outputs": [
    {
     "data": {
      "text/html": [
       "<div>\n",
       "<style scoped>\n",
       "    .dataframe tbody tr th:only-of-type {\n",
       "        vertical-align: middle;\n",
       "    }\n",
       "\n",
       "    .dataframe tbody tr th {\n",
       "        vertical-align: top;\n",
       "    }\n",
       "\n",
       "    .dataframe thead th {\n",
       "        text-align: right;\n",
       "    }\n",
       "</style>\n",
       "<table border=\"1\" class=\"dataframe\">\n",
       "  <thead>\n",
       "    <tr style=\"text-align: right;\">\n",
       "      <th></th>\n",
       "      <th>City Name</th>\n",
       "      <th>City ID</th>\n",
       "      <th>country</th>\n",
       "      <th>Temperature</th>\n",
       "      <th>Humidity</th>\n",
       "      <th>Cloudiness</th>\n",
       "      <th>Wind Speed</th>\n",
       "      <th>Lat</th>\n",
       "      <th>Lng</th>\n",
       "      <th>Date</th>\n",
       "    </tr>\n",
       "  </thead>\n",
       "  <tbody>\n",
       "    <tr>\n",
       "      <th>0</th>\n",
       "      <td>ushuaia</td>\n",
       "      <td>3833367</td>\n",
       "      <td>AR</td>\n",
       "      <td>37.40</td>\n",
       "      <td>87</td>\n",
       "      <td>40</td>\n",
       "      <td>21.85</td>\n",
       "      <td>-54.8000</td>\n",
       "      <td>-68.3000</td>\n",
       "      <td>1619656810</td>\n",
       "    </tr>\n",
       "    <tr>\n",
       "      <th>1</th>\n",
       "      <td>yellowknife</td>\n",
       "      <td>6185377</td>\n",
       "      <td>CA</td>\n",
       "      <td>24.42</td>\n",
       "      <td>54</td>\n",
       "      <td>20</td>\n",
       "      <td>16.11</td>\n",
       "      <td>62.4560</td>\n",
       "      <td>-114.3525</td>\n",
       "      <td>1619656684</td>\n",
       "    </tr>\n",
       "    <tr>\n",
       "      <th>2</th>\n",
       "      <td>barrow</td>\n",
       "      <td>5880054</td>\n",
       "      <td>US</td>\n",
       "      <td>19.40</td>\n",
       "      <td>86</td>\n",
       "      <td>90</td>\n",
       "      <td>8.05</td>\n",
       "      <td>71.2906</td>\n",
       "      <td>-156.7887</td>\n",
       "      <td>1619656728</td>\n",
       "    </tr>\n",
       "    <tr>\n",
       "      <th>3</th>\n",
       "      <td>santa maria</td>\n",
       "      <td>3450083</td>\n",
       "      <td>BR</td>\n",
       "      <td>53.60</td>\n",
       "      <td>94</td>\n",
       "      <td>0</td>\n",
       "      <td>1.14</td>\n",
       "      <td>-29.6842</td>\n",
       "      <td>-53.8069</td>\n",
       "      <td>1619656901</td>\n",
       "    </tr>\n",
       "    <tr>\n",
       "      <th>4</th>\n",
       "      <td>qaqortoq</td>\n",
       "      <td>3420846</td>\n",
       "      <td>GL</td>\n",
       "      <td>37.40</td>\n",
       "      <td>81</td>\n",
       "      <td>75</td>\n",
       "      <td>10.36</td>\n",
       "      <td>60.7167</td>\n",
       "      <td>-46.0333</td>\n",
       "      <td>1619656919</td>\n",
       "    </tr>\n",
       "  </tbody>\n",
       "</table>\n",
       "</div>"
      ],
      "text/plain": [
       "     City Name  City ID country  Temperature  Humidity  Cloudiness  \\\n",
       "0      ushuaia  3833367      AR        37.40        87          40   \n",
       "1  yellowknife  6185377      CA        24.42        54          20   \n",
       "2       barrow  5880054      US        19.40        86          90   \n",
       "3  santa maria  3450083      BR        53.60        94           0   \n",
       "4     qaqortoq  3420846      GL        37.40        81          75   \n",
       "\n",
       "   Wind Speed      Lat       Lng        Date  \n",
       "0       21.85 -54.8000  -68.3000  1619656810  \n",
       "1       16.11  62.4560 -114.3525  1619656684  \n",
       "2        8.05  71.2906 -156.7887  1619656728  \n",
       "3        1.14 -29.6842  -53.8069  1619656901  \n",
       "4       10.36  60.7167  -46.0333  1619656919  "
      ]
     },
     "execution_count": 41,
     "metadata": {},
     "output_type": "execute_result"
    }
   ],
   "source": [
    "weather_data = {'City Name': city_name, 'City ID': city_id, \n",
    "               'country': country, 'Temperature': temp,\n",
    "               'Humidity': humid, 'Cloudiness': cloud, 'Wind Speed': wind,\n",
    "               'Lat': city_lat, 'Lng': city_lng, 'Date': city_date}\n",
    "weather_data_df = pd.DataFrame(weather_data)\n",
    "#print(weather_data_df)\n",
    "# if we want to drop rows where humidity > 100, uncomment the line below\n",
    "# turns out later, we want this data according to the instructions\n",
    "weather_data_no_humid_df = weather_data_df[weather_data_df.Humidity < 101]\n",
    "weather_data_no_humid_df.head()"
   ]
  },
  {
   "cell_type": "code",
   "execution_count": 16,
   "metadata": {},
   "outputs": [
    {
     "data": {
      "text/html": [
       "<div>\n",
       "<style scoped>\n",
       "    .dataframe tbody tr th:only-of-type {\n",
       "        vertical-align: middle;\n",
       "    }\n",
       "\n",
       "    .dataframe tbody tr th {\n",
       "        vertical-align: top;\n",
       "    }\n",
       "\n",
       "    .dataframe thead th {\n",
       "        text-align: right;\n",
       "    }\n",
       "</style>\n",
       "<table border=\"1\" class=\"dataframe\">\n",
       "  <thead>\n",
       "    <tr style=\"text-align: right;\">\n",
       "      <th></th>\n",
       "      <th>Lat</th>\n",
       "      <th>Lng</th>\n",
       "      <th>Max Temp</th>\n",
       "      <th>Humidity</th>\n",
       "      <th>Cloudiness</th>\n",
       "      <th>Wind Speed</th>\n",
       "      <th>Date</th>\n",
       "    </tr>\n",
       "  </thead>\n",
       "  <tbody>\n",
       "    <tr>\n",
       "      <td>count</td>\n",
       "      <td>599.000000</td>\n",
       "      <td>599.000000</td>\n",
       "      <td>599.000000</td>\n",
       "      <td>599.000000</td>\n",
       "      <td>599.000000</td>\n",
       "      <td>599.000000</td>\n",
       "      <td>5.990000e+02</td>\n",
       "    </tr>\n",
       "    <tr>\n",
       "      <td>mean</td>\n",
       "      <td>19.877028</td>\n",
       "      <td>19.568998</td>\n",
       "      <td>69.794808</td>\n",
       "      <td>69.353923</td>\n",
       "      <td>51.569282</td>\n",
       "      <td>7.979416</td>\n",
       "      <td>1.593605e+09</td>\n",
       "    </tr>\n",
       "    <tr>\n",
       "      <td>std</td>\n",
       "      <td>33.262944</td>\n",
       "      <td>91.418472</td>\n",
       "      <td>15.678452</td>\n",
       "      <td>22.704698</td>\n",
       "      <td>35.405602</td>\n",
       "      <td>5.660694</td>\n",
       "      <td>5.738815e+01</td>\n",
       "    </tr>\n",
       "    <tr>\n",
       "      <td>min</td>\n",
       "      <td>-54.800000</td>\n",
       "      <td>-179.170000</td>\n",
       "      <td>12.200000</td>\n",
       "      <td>7.000000</td>\n",
       "      <td>0.000000</td>\n",
       "      <td>0.360000</td>\n",
       "      <td>1.593605e+09</td>\n",
       "    </tr>\n",
       "    <tr>\n",
       "      <td>25%</td>\n",
       "      <td>-8.540000</td>\n",
       "      <td>-61.210000</td>\n",
       "      <td>59.000000</td>\n",
       "      <td>55.000000</td>\n",
       "      <td>20.000000</td>\n",
       "      <td>3.620000</td>\n",
       "      <td>1.593605e+09</td>\n",
       "    </tr>\n",
       "    <tr>\n",
       "      <td>50%</td>\n",
       "      <td>24.370000</td>\n",
       "      <td>24.670000</td>\n",
       "      <td>73.110000</td>\n",
       "      <td>75.000000</td>\n",
       "      <td>59.000000</td>\n",
       "      <td>6.730000</td>\n",
       "      <td>1.593605e+09</td>\n",
       "    </tr>\n",
       "    <tr>\n",
       "      <td>75%</td>\n",
       "      <td>46.585000</td>\n",
       "      <td>102.255000</td>\n",
       "      <td>80.600000</td>\n",
       "      <td>87.000000</td>\n",
       "      <td>85.000000</td>\n",
       "      <td>11.050000</td>\n",
       "      <td>1.593605e+09</td>\n",
       "    </tr>\n",
       "    <tr>\n",
       "      <td>max</td>\n",
       "      <td>78.220000</td>\n",
       "      <td>179.320000</td>\n",
       "      <td>116.600000</td>\n",
       "      <td>100.000000</td>\n",
       "      <td>100.000000</td>\n",
       "      <td>42.500000</td>\n",
       "      <td>1.593605e+09</td>\n",
       "    </tr>\n",
       "  </tbody>\n",
       "</table>\n",
       "</div>"
      ],
      "text/plain": [
       "              Lat         Lng    Max Temp    Humidity  Cloudiness  Wind Speed  \\\n",
       "count  599.000000  599.000000  599.000000  599.000000  599.000000  599.000000   \n",
       "mean    19.877028   19.568998   69.794808   69.353923   51.569282    7.979416   \n",
       "std     33.262944   91.418472   15.678452   22.704698   35.405602    5.660694   \n",
       "min    -54.800000 -179.170000   12.200000    7.000000    0.000000    0.360000   \n",
       "25%     -8.540000  -61.210000   59.000000   55.000000   20.000000    3.620000   \n",
       "50%     24.370000   24.670000   73.110000   75.000000   59.000000    6.730000   \n",
       "75%     46.585000  102.255000   80.600000   87.000000   85.000000   11.050000   \n",
       "max     78.220000  179.320000  116.600000  100.000000  100.000000   42.500000   \n",
       "\n",
       "               Date  \n",
       "count  5.990000e+02  \n",
       "mean   1.593605e+09  \n",
       "std    5.738815e+01  \n",
       "min    1.593605e+09  \n",
       "25%    1.593605e+09  \n",
       "50%    1.593605e+09  \n",
       "75%    1.593605e+09  \n",
       "max    1.593605e+09  "
      ]
     },
     "execution_count": 16,
     "metadata": {},
     "output_type": "execute_result"
    }
   ],
   "source": []
  },
  {
   "cell_type": "markdown",
   "metadata": {},
   "source": [
    "## Inspect the data and remove the cities where the humidity > 100%.\n",
    "----\n",
    "Skip this step if there are no cities that have humidity > 100%. "
   ]
  },
  {
   "cell_type": "code",
   "execution_count": 6,
   "metadata": {},
   "outputs": [
    {
     "data": {
      "text/html": [
       "<div>\n",
       "<style scoped>\n",
       "    .dataframe tbody tr th:only-of-type {\n",
       "        vertical-align: middle;\n",
       "    }\n",
       "\n",
       "    .dataframe tbody tr th {\n",
       "        vertical-align: top;\n",
       "    }\n",
       "\n",
       "    .dataframe thead th {\n",
       "        text-align: right;\n",
       "    }\n",
       "</style>\n",
       "<table border=\"1\" class=\"dataframe\">\n",
       "  <thead>\n",
       "    <tr style=\"text-align: right;\">\n",
       "      <th></th>\n",
       "      <th>Lat</th>\n",
       "      <th>Lng</th>\n",
       "      <th>Max Temp</th>\n",
       "      <th>Humidity</th>\n",
       "      <th>Cloudiness</th>\n",
       "      <th>Wind Speed</th>\n",
       "      <th>Date</th>\n",
       "    </tr>\n",
       "  </thead>\n",
       "  <tbody>\n",
       "    <tr>\n",
       "      <th>count</th>\n",
       "      <td>550.000000</td>\n",
       "      <td>550.000000</td>\n",
       "      <td>550.000000</td>\n",
       "      <td>550.000000</td>\n",
       "      <td>550.000000</td>\n",
       "      <td>550.000000</td>\n",
       "      <td>5.500000e+02</td>\n",
       "    </tr>\n",
       "    <tr>\n",
       "      <th>mean</th>\n",
       "      <td>19.973545</td>\n",
       "      <td>17.124400</td>\n",
       "      <td>58.331400</td>\n",
       "      <td>67.890909</td>\n",
       "      <td>52.141818</td>\n",
       "      <td>8.544800</td>\n",
       "      <td>1.585764e+09</td>\n",
       "    </tr>\n",
       "    <tr>\n",
       "      <th>std</th>\n",
       "      <td>33.284840</td>\n",
       "      <td>91.595451</td>\n",
       "      <td>25.795297</td>\n",
       "      <td>20.864881</td>\n",
       "      <td>35.766469</td>\n",
       "      <td>6.078869</td>\n",
       "      <td>5.539674e+01</td>\n",
       "    </tr>\n",
       "    <tr>\n",
       "      <th>min</th>\n",
       "      <td>-54.800000</td>\n",
       "      <td>-179.170000</td>\n",
       "      <td>-11.340000</td>\n",
       "      <td>9.000000</td>\n",
       "      <td>0.000000</td>\n",
       "      <td>0.160000</td>\n",
       "      <td>1.585764e+09</td>\n",
       "    </tr>\n",
       "    <tr>\n",
       "      <th>25%</th>\n",
       "      <td>-8.077500</td>\n",
       "      <td>-64.627500</td>\n",
       "      <td>42.800000</td>\n",
       "      <td>55.000000</td>\n",
       "      <td>20.000000</td>\n",
       "      <td>4.525000</td>\n",
       "      <td>1.585764e+09</td>\n",
       "    </tr>\n",
       "    <tr>\n",
       "      <th>50%</th>\n",
       "      <td>23.630000</td>\n",
       "      <td>19.635000</td>\n",
       "      <td>64.940000</td>\n",
       "      <td>72.000000</td>\n",
       "      <td>57.000000</td>\n",
       "      <td>7.325000</td>\n",
       "      <td>1.585764e+09</td>\n",
       "    </tr>\n",
       "    <tr>\n",
       "      <th>75%</th>\n",
       "      <td>48.672500</td>\n",
       "      <td>97.350000</td>\n",
       "      <td>78.800000</td>\n",
       "      <td>83.000000</td>\n",
       "      <td>86.750000</td>\n",
       "      <td>11.410000</td>\n",
       "      <td>1.585764e+09</td>\n",
       "    </tr>\n",
       "    <tr>\n",
       "      <th>max</th>\n",
       "      <td>78.220000</td>\n",
       "      <td>179.320000</td>\n",
       "      <td>102.200000</td>\n",
       "      <td>100.000000</td>\n",
       "      <td>100.000000</td>\n",
       "      <td>46.080000</td>\n",
       "      <td>1.585764e+09</td>\n",
       "    </tr>\n",
       "  </tbody>\n",
       "</table>\n",
       "</div>"
      ],
      "text/plain": [
       "              Lat         Lng    Max Temp    Humidity  Cloudiness  Wind Speed  \\\n",
       "count  550.000000  550.000000  550.000000  550.000000  550.000000  550.000000   \n",
       "mean    19.973545   17.124400   58.331400   67.890909   52.141818    8.544800   \n",
       "std     33.284840   91.595451   25.795297   20.864881   35.766469    6.078869   \n",
       "min    -54.800000 -179.170000  -11.340000    9.000000    0.000000    0.160000   \n",
       "25%     -8.077500  -64.627500   42.800000   55.000000   20.000000    4.525000   \n",
       "50%     23.630000   19.635000   64.940000   72.000000   57.000000    7.325000   \n",
       "75%     48.672500   97.350000   78.800000   83.000000   86.750000   11.410000   \n",
       "max     78.220000  179.320000  102.200000  100.000000  100.000000   46.080000   \n",
       "\n",
       "               Date  \n",
       "count  5.500000e+02  \n",
       "mean   1.585764e+09  \n",
       "std    5.539674e+01  \n",
       "min    1.585764e+09  \n",
       "25%    1.585764e+09  \n",
       "50%    1.585764e+09  \n",
       "75%    1.585764e+09  \n",
       "max    1.585764e+09  "
      ]
     },
     "execution_count": 6,
     "metadata": {},
     "output_type": "execute_result"
    }
   ],
   "source": [
    "# this step done above, though right below the instructions want this again\n",
    "# so why remove it, he wonders..."
   ]
  },
  {
   "cell_type": "code",
   "execution_count": 47,
   "metadata": {},
   "outputs": [
    {
     "data": {
      "text/html": [
       "<div>\n",
       "<style scoped>\n",
       "    .dataframe tbody tr th:only-of-type {\n",
       "        vertical-align: middle;\n",
       "    }\n",
       "\n",
       "    .dataframe tbody tr th {\n",
       "        vertical-align: top;\n",
       "    }\n",
       "\n",
       "    .dataframe thead th {\n",
       "        text-align: right;\n",
       "    }\n",
       "</style>\n",
       "<table border=\"1\" class=\"dataframe\">\n",
       "  <thead>\n",
       "    <tr style=\"text-align: right;\">\n",
       "      <th></th>\n",
       "      <th>City Name</th>\n",
       "      <th>City ID</th>\n",
       "      <th>country</th>\n",
       "      <th>Temperature</th>\n",
       "      <th>Humidity</th>\n",
       "      <th>Cloudiness</th>\n",
       "      <th>Wind Speed</th>\n",
       "      <th>Lat</th>\n",
       "      <th>Lng</th>\n",
       "      <th>Date</th>\n",
       "    </tr>\n",
       "  </thead>\n",
       "  <tbody>\n",
       "    <tr>\n",
       "      <th>78</th>\n",
       "      <td>Foo</td>\n",
       "      <td>6</td>\n",
       "      <td>DOH</td>\n",
       "      <td>20.0</td>\n",
       "      <td>101</td>\n",
       "      <td>3</td>\n",
       "      <td>5.0</td>\n",
       "      <td>12.0</td>\n",
       "      <td>5.0</td>\n",
       "      <td>12</td>\n",
       "    </tr>\n",
       "  </tbody>\n",
       "</table>\n",
       "</div>"
      ],
      "text/plain": [
       "   City Name  City ID country  Temperature  Humidity  Cloudiness  Wind Speed  \\\n",
       "78       Foo        6     DOH         20.0       101           3         5.0   \n",
       "\n",
       "     Lat  Lng  Date  \n",
       "78  12.0  5.0    12  "
      ]
     },
     "execution_count": 47,
     "metadata": {},
     "output_type": "execute_result"
    }
   ],
   "source": [
    "#  Get the indices of cities that have humidity over 100%.\n",
    "weather_data_big_humid_df = weather_data_df[weather_data_df.Humidity > 100]\n",
    "weather_data_big_humid_df"
   ]
  },
  {
   "cell_type": "code",
   "execution_count": 35,
   "metadata": {},
   "outputs": [
    {
     "name": "stdout",
     "output_type": "stream",
     "text": [
      "---> I've already done this.  It's called weather_data_df\n"
     ]
    },
    {
     "data": {
      "text/html": [
       "<div>\n",
       "<style scoped>\n",
       "    .dataframe tbody tr th:only-of-type {\n",
       "        vertical-align: middle;\n",
       "    }\n",
       "\n",
       "    .dataframe tbody tr th {\n",
       "        vertical-align: top;\n",
       "    }\n",
       "\n",
       "    .dataframe thead th {\n",
       "        text-align: right;\n",
       "    }\n",
       "</style>\n",
       "<table border=\"1\" class=\"dataframe\">\n",
       "  <thead>\n",
       "    <tr style=\"text-align: right;\">\n",
       "      <th></th>\n",
       "      <th>City Name</th>\n",
       "      <th>City ID</th>\n",
       "      <th>country</th>\n",
       "      <th>Temperature</th>\n",
       "      <th>Humidity</th>\n",
       "      <th>Cloudiness</th>\n",
       "      <th>Wind Speed</th>\n",
       "      <th>Lat</th>\n",
       "      <th>Lng</th>\n",
       "      <th>Date</th>\n",
       "    </tr>\n",
       "  </thead>\n",
       "  <tbody>\n",
       "    <tr>\n",
       "      <th>0</th>\n",
       "      <td>punta arenas</td>\n",
       "      <td>3874787</td>\n",
       "      <td>CL</td>\n",
       "      <td>41.00</td>\n",
       "      <td>87</td>\n",
       "      <td>75</td>\n",
       "      <td>26.46</td>\n",
       "      <td>-53.1500</td>\n",
       "      <td>-70.9167</td>\n",
       "      <td>1619654865</td>\n",
       "    </tr>\n",
       "    <tr>\n",
       "      <th>1</th>\n",
       "      <td>mukhen</td>\n",
       "      <td>2019718</td>\n",
       "      <td>RU</td>\n",
       "      <td>51.10</td>\n",
       "      <td>54</td>\n",
       "      <td>58</td>\n",
       "      <td>10.31</td>\n",
       "      <td>48.1000</td>\n",
       "      <td>136.1000</td>\n",
       "      <td>1619654866</td>\n",
       "    </tr>\n",
       "    <tr>\n",
       "      <th>2</th>\n",
       "      <td>santa isabel do rio negro</td>\n",
       "      <td>3662489</td>\n",
       "      <td>BR</td>\n",
       "      <td>73.63</td>\n",
       "      <td>98</td>\n",
       "      <td>99</td>\n",
       "      <td>3.62</td>\n",
       "      <td>-0.4139</td>\n",
       "      <td>-65.0192</td>\n",
       "      <td>1619654866</td>\n",
       "    </tr>\n",
       "    <tr>\n",
       "      <th>3</th>\n",
       "      <td>ushuaia</td>\n",
       "      <td>3833367</td>\n",
       "      <td>AR</td>\n",
       "      <td>39.20</td>\n",
       "      <td>93</td>\n",
       "      <td>75</td>\n",
       "      <td>21.85</td>\n",
       "      <td>-54.8000</td>\n",
       "      <td>-68.3000</td>\n",
       "      <td>1619654818</td>\n",
       "    </tr>\n",
       "    <tr>\n",
       "      <th>4</th>\n",
       "      <td>tiksi</td>\n",
       "      <td>2015306</td>\n",
       "      <td>RU</td>\n",
       "      <td>26.37</td>\n",
       "      <td>90</td>\n",
       "      <td>49</td>\n",
       "      <td>7.25</td>\n",
       "      <td>71.6872</td>\n",
       "      <td>128.8694</td>\n",
       "      <td>1619654867</td>\n",
       "    </tr>\n",
       "  </tbody>\n",
       "</table>\n",
       "</div>"
      ],
      "text/plain": [
       "                   City Name  City ID country  Temperature  Humidity  \\\n",
       "0               punta arenas  3874787      CL        41.00        87   \n",
       "1                     mukhen  2019718      RU        51.10        54   \n",
       "2  santa isabel do rio negro  3662489      BR        73.63        98   \n",
       "3                    ushuaia  3833367      AR        39.20        93   \n",
       "4                      tiksi  2015306      RU        26.37        90   \n",
       "\n",
       "   Cloudiness  Wind Speed      Lat       Lng        Date  \n",
       "0          75       26.46 -53.1500  -70.9167  1619654865  \n",
       "1          58       10.31  48.1000  136.1000  1619654866  \n",
       "2          99        3.62  -0.4139  -65.0192  1619654866  \n",
       "3          75       21.85 -54.8000  -68.3000  1619654818  \n",
       "4          49        7.25  71.6872  128.8694  1619654867  "
      ]
     },
     "execution_count": 35,
     "metadata": {},
     "output_type": "execute_result"
    }
   ],
   "source": [
    "# Make a new DataFrame equal to the city data to drop all humidity outliers by index.\n",
    "# Passing \"inplace=False\" will make a copy of the city_data DataFrame, which we call \"clean_city_data\".\n",
    "print('---> I\\'ve already done this.  It\\'s called weather_data_df')\n",
    "weather_data_df.head()"
   ]
  },
  {
   "cell_type": "code",
   "execution_count": null,
   "metadata": {},
   "outputs": [],
   "source": [
    "\n"
   ]
  },
  {
   "cell_type": "markdown",
   "metadata": {},
   "source": [
    "## Plotting the Data\n",
    "* Use proper labeling of the plots using plot titles (including date of analysis) and axes labels.\n",
    "* Save the plotted figures as .pngs."
   ]
  },
  {
   "cell_type": "markdown",
   "metadata": {},
   "source": [
    "## Latitude vs. Temperature Plot"
   ]
  },
  {
   "cell_type": "code",
   "execution_count": 44,
   "metadata": {
    "scrolled": true
   },
   "outputs": [
    {
     "data": {
      "image/png": "[encoded data removed]",
      "text/plain": [
       "<Figure size 432x288 with 1 Axes>"
      ]
     },
     "metadata": {
      "needs_background": "light"
     },
     "output_type": "display_data"
    }
   ],
   "source": [
    "# scatter plot time!\n",
    "weather_data_df.plot(kind=\"scatter\", x=\"Lat\", y=\"Temperature\", grid=True,\n",
    "              title=\"Temperature by Latitude\")\n",
    "plt.ylabel('Temperature')\n",
    "plt.show()"
   ]
  },
  {
   "cell_type": "markdown",
   "metadata": {},
   "source": [
    "## Latitude vs. Humidity Plot"
   ]
  },
  {
   "cell_type": "code",
   "execution_count": 46,
   "metadata": {},
   "outputs": [
    {
     "data": {
      "image/png": "[encoded data removed]",
      "text/plain": [
       "<Figure size 432x288 with 1 Axes>"
      ]
     },
     "metadata": {
      "needs_background": "light"
     },
     "output_type": "display_data"
    }
   ],
   "source": [
    "# scatter plot time!\n",
    "weather_data_df.plot(kind=\"scatter\", x=\"Lat\", y=\"Humidity\", grid=True,\n",
    "              title=\"Humidity by Latitude\")\n",
    "plt.ylabel('Humidity')\n",
    "plt.show()"
   ]
  },
  {
   "cell_type": "markdown",
   "metadata": {},
   "source": [
    "## Latitude vs. Cloudiness Plot"
   ]
  },
  {
   "cell_type": "code",
   "execution_count": 48,
   "metadata": {},
   "outputs": [
    {
     "data": {
      "image/png": "[encoded data removed]",
      "text/plain": [
       "<Figure size 432x288 with 1 Axes>"
      ]
     },
     "metadata": {
      "needs_background": "light"
     },
     "output_type": "display_data"
    }
   ],
   "source": [
    "# scatter plot time!\n",
    "weather_data_df.plot(kind=\"scatter\", x=\"Lat\", y=\"Cloudiness\", grid=True,\n",
    "              title=\"Cloudiness by Latitude\")\n",
    "plt.ylabel('Cloudiness')\n",
    "plt.show()"
   ]
  },
  {
   "cell_type": "markdown",
   "metadata": {},
   "source": [
    "## Latitude vs. Wind Speed Plot"
   ]
  },
  {
   "cell_type": "code",
   "execution_count": 49,
   "metadata": {},
   "outputs": [
    {
     "data": {
      "image/png": "[encoded data removed]",
      "text/plain": [
       "<Figure size 432x288 with 1 Axes>"
      ]
     },
     "metadata": {
      "needs_background": "light"
     },
     "output_type": "display_data"
    }
   ],
   "source": [
    "# scatter plot time!\n",
    "weather_data_df.plot(kind=\"scatter\", x=\"Lat\", y=\"Wind Speed\", grid=True,\n",
    "              title=\"Wind Speed by Latitude\")\n",
    "plt.ylabel('Wind Speed')\n",
    "plt.show()"
   ]
  },
  {
   "cell_type": "markdown",
   "metadata": {},
   "source": [
    "## Linear Regression"
   ]
  },
  {
   "cell_type": "code",
   "execution_count": 52,
   "metadata": {},
   "outputs": [
    {
     "name": "stdout",
     "output_type": "stream",
     "text": [
      "--- Done! ---\n"
     ]
    }
   ],
   "source": [
    "# separate the data into north and south\n",
    "data_north_df = weather_data_df[weather_data_df.Lat > 0 ]\n",
    "data_south_df = weather_data_df[weather_data_df.Lat < 0 ]\n",
    "#data_north_df\n",
    "#data_south_df\n",
    "print('--- Done! ---')"
   ]
  },
  {
   "cell_type": "markdown",
   "metadata": {},
   "source": [
    "####  Northern Hemisphere - Max Temp vs. Latitude Linear Regression"
   ]
  },
  {
   "cell_type": "code",
   "execution_count": 70,
   "metadata": {},
   "outputs": [
    {
     "name": "stdout",
     "output_type": "stream",
     "text": [
      "---> should we show r value?\n"
     ]
    },
    {
     "data": {
      "image/png": "[encoded data removed]",
      "text/plain": [
       "<Figure size 576x576 with 1 Axes>"
      ]
     },
     "metadata": {
      "needs_background": "light"
     },
     "output_type": "display_data"
    }
   ],
   "source": [
    "# Let's do our linear regression on temp vs. latitude in the North\n",
    "x_data = data_north_df['Temperature']\n",
    "y_data = data_north_df['Lat']\n",
    "data_slope, data_int, data_r, data_p, data_std_err = linregress(x_data, y_data)\n",
    "# create our line equation\n",
    "data_fit = data_slope * x_data + data_int\n",
    "# Create a scatter plot \n",
    "data_north_df.plot(kind=\"scatter\", x=\"Temperature\", y=\"Lat\", grid=True, figsize=(8,8),\n",
    "              title=\"Temp vs. Lat in the Northern Hemisphere\")\n",
    "#plt.ylabel('Average Tumor Volume (mm3)')\n",
    "plt.plot(x, data_fit, '--', color='red')\n",
    "print('---> should we show r value?')\n",
    "plt.show()\n",
    "#x"
   ]
  },
  {
   "cell_type": "markdown",
   "metadata": {},
   "source": [
    "####  Southern Hemisphere - Max Temp vs. Latitude Linear Regression"
   ]
  },
  {
   "cell_type": "code",
   "execution_count": 69,
   "metadata": {},
   "outputs": [
    {
     "data": {
      "image/png": "[encoded data removed]",
      "text/plain": [
       "<Figure size 576x576 with 1 Axes>"
      ]
     },
     "metadata": {
      "needs_background": "light"
     },
     "output_type": "display_data"
    }
   ],
   "source": [
    "# Let's do our linear regression on temp vs. latitude in the South\n",
    "x_data = data_south_df['Temperature']\n",
    "y_data = data_south_df['Lat']\n",
    "data_slope, data_int, data_r, data_p, data_std_err = linregress(x_data, y_data)\n",
    "# create our line equation\n",
    "data_fit = data_slope * x_data + data_int\n",
    "# Create a scatter plot \n",
    "data_south_df.plot(kind=\"scatter\", x=\"Temperature\", y=\"Lat\", grid=True, figsize=(8,8),\n",
    "              title=\"Temp vs. Lat in the Southern Hemisphere\")\n",
    "#plt.ylabel('A label here')\n",
    "#plt.plot(x, data_fit, '--', color='red')\n",
    "plt.show()\n",
    "#print(x)\n",
    "#y"
   ]
  },
  {
   "cell_type": "markdown",
   "metadata": {},
   "source": [
    "####  Northern Hemisphere - Humidity (%) vs. Latitude Linear Regression"
   ]
  },
  {
   "cell_type": "code",
   "execution_count": 71,
   "metadata": {},
   "outputs": [
    {
     "name": "stdout",
     "output_type": "stream",
     "text": [
      "---> should we show r value?\n"
     ]
    },
    {
     "data": {
      "image/png": "[encoded data removed]",
      "text/plain": [
       "<Figure size 576x576 with 1 Axes>"
      ]
     },
     "metadata": {
      "needs_background": "light"
     },
     "output_type": "display_data"
    }
   ],
   "source": [
    "# Let's do our linear regression on humidity vs. latitude in the North\n",
    "x_data = data_north_df['Humidity']\n",
    "y_data = data_north_df['Lat']\n",
    "data_slope, data_int, data_r, data_p, data_std_err = linregress(x_data, y_data)\n",
    "# create our line equation\n",
    "data_fit = data_slope * x_data + data_int\n",
    "# Create a scatter plot \n",
    "data_north_df.plot(kind=\"scatter\", x=\"Humidity\", y=\"Lat\", grid=True, figsize=(8,8),\n",
    "              title=\"Humidity vs. Lat in the Northern Hemisphere\")\n",
    "#plt.ylabel('A label here')\n",
    "plt.plot(x, data_fit, '--', color='red')\n",
    "print('---> should we show r value?')\n",
    "plt.show()"
   ]
  },
  {
   "cell_type": "markdown",
   "metadata": {},
   "source": [
    "####  Southern Hemisphere - Humidity (%) vs. Latitude Linear Regression"
   ]
  },
  {
   "cell_type": "code",
   "execution_count": 73,
   "metadata": {},
   "outputs": [
    {
     "name": "stdout",
     "output_type": "stream",
     "text": [
      "---> should we show r value?\n"
     ]
    },
    {
     "data": {
      "image/png": "[encoded data removed]",
      "text/plain": [
       "<Figure size 576x576 with 1 Axes>"
      ]
     },
     "metadata": {
      "needs_background": "light"
     },
     "output_type": "display_data"
    }
   ],
   "source": [
    "# Let's do our linear regression on temp vs. latitude in the North\n",
    "x_data = data_south_df['Humidity']\n",
    "y_data = data_south_df['Lat']\n",
    "data_slope, data_int, data_r, data_p, data_std_err = linregress(x_data, y_data)\n",
    "# create our line equation\n",
    "data_fit = data_slope * x_data + data_int\n",
    "# Create a scatter plot \n",
    "data_north_df.plot(kind=\"scatter\", x=\"Humidity\", y=\"Lat\", grid=True, figsize=(8,8),\n",
    "              title=\"Temp vs. Lat in the Southern Hemisphere\")\n",
    "#plt.ylabel('Average Tumor Volume (mm3)')\n",
    "#plt.plot(x, data_fit, '--', color='red')\n",
    "print('---> should we show r value?')\n",
    "plt.show()"
   ]
  },
  {
   "cell_type": "markdown",
   "metadata": {},
   "source": [
    "####  Northern Hemisphere - Cloudiness (%) vs. Latitude Linear Regression"
   ]
  },
  {
   "cell_type": "code",
   "execution_count": 76,
   "metadata": {},
   "outputs": [
    {
     "name": "stdout",
     "output_type": "stream",
     "text": [
      "---> should we show r value?\n"
     ]
    },
    {
     "data": {
      "image/png": "[encoded data removed]",
      "text/plain": [
       "<Figure size 576x576 with 1 Axes>"
      ]
     },
     "metadata": {
      "needs_background": "light"
     },
     "output_type": "display_data"
    }
   ],
   "source": [
    "# Let's do our linear regression on Cloudiness vs. latitude in the North\n",
    "x_data = data_north_df['Cloudiness']\n",
    "y_data = data_north_df['Lat']\n",
    "data_slope, data_int, data_r, data_p, data_std_err = linregress(x_data, y_data)\n",
    "# create our line equation\n",
    "data_fit = data_slope * x_data + data_int\n",
    "# Create a scatter plot \n",
    "data_north_df.plot(kind=\"scatter\", x=\"Cloudiness\", y=\"Lat\", grid=True, figsize=(8,8),\n",
    "              title=\"Cloudiness vs. Lat in the Southern Hemisphere\")\n",
    "#plt.ylabel('A label here')\n",
    "plt.plot(x, data_fit, '--', color='red')\n",
    "print('---> should we show r value?')\n",
    "plt.show()"
   ]
  },
  {
   "cell_type": "markdown",
   "metadata": {},
   "source": [
    "####  Southern Hemisphere - Cloudiness (%) vs. Latitude Linear Regression"
   ]
  },
  {
   "cell_type": "code",
   "execution_count": 30,
   "metadata": {},
   "outputs": [
    {
     "name": "stdout",
     "output_type": "stream",
     "text": [
      "The r-value is: 0.0035263772085582894\n"
     ]
    },
    {
     "data": {
      "image/png": "[encoded data removed]",
      "text/plain": [
       "<Figure size 432x288 with 1 Axes>"
      ]
     },
     "metadata": {
      "needs_background": "light"
     },
     "output_type": "display_data"
    }
   ],
   "source": []
  },
  {
   "cell_type": "markdown",
   "metadata": {},
   "source": [
    "####  Northern Hemisphere - Wind Speed (mph) vs. Latitude Linear Regression"
   ]
  },
  {
   "cell_type": "code",
   "execution_count": 77,
   "metadata": {},
   "outputs": [
    {
     "name": "stdout",
     "output_type": "stream",
     "text": [
      "---> should we show r value?\n"
     ]
    },
    {
     "data": {
      "image/png": "[encoded data removed]",
      "text/plain": [
       "<Figure size 576x576 with 1 Axes>"
      ]
     },
     "metadata": {
      "needs_background": "light"
     },
     "output_type": "display_data"
    }
   ],
   "source": [
    "# Let's do our linear regression on wind speed vs. latitude in the North\n",
    "x_data = data_north_df['Wind Speed']\n",
    "y_data = data_north_df['Lat']\n",
    "data_slope, data_int, data_r, data_p, data_std_err = linregress(x_data, y_data)\n",
    "# create our line equation\n",
    "data_fit = data_slope * x_data + data_int\n",
    "# Create a scatter plot \n",
    "data_north_df.plot(kind=\"scatter\", x=\"Wind Speed\", y=\"Lat\", grid=True, figsize=(8,8),\n",
    "              title=\"Wind Speed vs. Lat in the Northern Hemisphere\")\n",
    "#plt.ylabel('A label here')\n",
    "plt.plot(x, data_fit, '--', color='red')\n",
    "print('---> should we show r value?')\n",
    "plt.show()"
   ]
  },
  {
   "cell_type": "markdown",
   "metadata": {},
   "source": [
    "####  Southern Hemisphere - Wind Speed (mph) vs. Latitude Linear Regression"
   ]
  },
  {
   "cell_type": "code",
   "execution_count": 32,
   "metadata": {},
   "outputs": [
    {
     "name": "stdout",
     "output_type": "stream",
     "text": [
      "The r-value is: 0.017128274759839232\n"
     ]
    },
    {
     "data": {
      "image/png": "[encoded data removed]",
      "text/plain": [
       "<Figure size 432x288 with 1 Axes>"
      ]
     },
     "metadata": {
      "needs_background": "light"
     },
     "output_type": "display_data"
    }
   ],
   "source": []
  },
  {
   "cell_type": "code",
   "execution_count": null,
   "metadata": {},
   "outputs": [],
   "source": []
  }
 ],
 "metadata": {
  "anaconda-cloud": {},
  "kernel_info": {
   "name": "python3"
  },
  "kernelspec": {
   "display_name": "Python [conda env:PythonData] *",
   "language": "python",
   "name": "conda-env-PythonData-py"
  },
  "language_info": {
   "codemirror_mode": {
    "name": "ipython",
    "version": 3
   },
   "file_extension": ".py",
   "mimetype": "text/x-python",
   "name": "python",
   "nbconvert_exporter": "python",
   "pygments_lexer": "ipython3",
   "version": "3.6.10"
  },
  "latex_envs": {
   "LaTeX_envs_menu_present": true,
   "autoclose": false,
   "autocomplete": true,
   "bibliofile": "biblio.bib",
   "cite_by": "apalike",
   "current_citInitial": 1,
   "eqLabelWithNumbers": true,
   "eqNumInitial": 1,
   "hotkeys": {
    "equation": "Ctrl-E",
    "itemize": "Ctrl-I"
   },
   "labels_anchors": false,
   "latex_user_defs": false,
   "report_style_numbering": false,
   "user_envs_cfg": false
  },
  "nteract": {
   "version": "0.12.3"
  }
 },
 "nbformat": 4,
 "nbformat_minor": 2
}
